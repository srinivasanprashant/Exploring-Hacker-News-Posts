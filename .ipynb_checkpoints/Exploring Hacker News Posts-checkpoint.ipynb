{
 "cells": [
  {
   "cell_type": "markdown",
   "metadata": {
    "collapsed": true
   },
   "source": [
    "# Exploring Hacker News Posts\n",
    "\n",
    "This project will compare posts in Hacker News based on certain criteria and determine what factors might cause posts to receive more comments on average"
   ]
  },
  {
   "cell_type": "code",
   "execution_count": 10,
   "metadata": {},
   "outputs": [
    {
     "name": "stdout",
     "output_type": "stream",
     "text": [
      "['id', 'title', 'url', 'num_points', 'num_comments', 'author', 'created_at']\n",
      "['12578975', 'Saving the Hassle of Shopping', 'https://blog.menswr.com/2016/09/07/whats-new-with-your-style-feed/', '1', '1', 'bdoux', '9/26/2016 3:13']\n",
      "['12578822', 'Amazons Algorithms Dont Find You the Best Deals', 'https://www.technologyreview.com/s/602442/amazons-algorithms-dont-find-you-the-best-deals/', '1', '1', 'yarapavan', '9/26/2016 2:26']\n",
      "['12578694', 'Emergency dose of epinephrine that does not cost an arm and a leg', 'http://m.imgur.com/gallery/th6Ua', '2', '1', 'dredmorbius', '9/26/2016 1:54']\n",
      "['12578624', 'Phone Makers Could Cut Off Drivers. So Why Dont They?', 'http://www.nytimes.com/2016/09/25/technology/phone-makers-could-cut-off-drivers-so-why-dont-they.html', '4', '1', 'danso', '9/26/2016 1:37']\n",
      "Total number of rows in list is  80402\n"
     ]
    }
   ],
   "source": [
    "from csv import reader\n",
    "with open(\"hacker_news.csv\", encoding=\"utf8\") as file_read:\n",
    "    data_read = reader(file_read)\n",
    "    hn = list(data_read)\n",
    "\n",
    "for row in hn[:5]:\n",
    "    print(row)\n",
    "    \n",
    "print(\"Total number of rows in list is \", len(hn))\n",
    "    "
   ]
  },
  {
   "cell_type": "markdown",
   "metadata": {},
   "source": [
    "The first list in the inner lists contains the column headers, and the lists after contain the data for one row. In order to analyze our data, we need to first remove the row containing the column headers."
   ]
  },
  {
   "cell_type": "code",
   "execution_count": 11,
   "metadata": {},
   "outputs": [
    {
     "name": "stdout",
     "output_type": "stream",
     "text": [
      "['id', 'title', 'url', 'num_points', 'num_comments', 'author', 'created_at']\n",
      "['12578975', 'Saving the Hassle of Shopping', 'https://blog.menswr.com/2016/09/07/whats-new-with-your-style-feed/', '1', '1', 'bdoux', '9/26/2016 3:13']\n",
      "['12578822', 'Amazons Algorithms Dont Find You the Best Deals', 'https://www.technologyreview.com/s/602442/amazons-algorithms-dont-find-you-the-best-deals/', '1', '1', 'yarapavan', '9/26/2016 2:26']\n",
      "['12578694', 'Emergency dose of epinephrine that does not cost an arm and a leg', 'http://m.imgur.com/gallery/th6Ua', '2', '1', 'dredmorbius', '9/26/2016 1:54']\n",
      "['12578624', 'Phone Makers Could Cut Off Drivers. So Why Dont They?', 'http://www.nytimes.com/2016/09/25/technology/phone-makers-could-cut-off-drivers-so-why-dont-they.html', '4', '1', 'danso', '9/26/2016 1:37']\n",
      "['12578311', 'Americas Lost Boys: Men who choose video games over work', 'https://www.firstthings.com/blogs/firstthoughts/2016/08/americas-lost-boys', '5', '1', 'jseliger', '9/26/2016 0:31']\n"
     ]
    }
   ],
   "source": [
    "headers = hn[0]\n",
    "hn = hn[1:]\n",
    "print(headers)\n",
    "for row in hn[:5]:\n",
    "    print(row)"
   ]
  },
  {
   "cell_type": "markdown",
   "metadata": {},
   "source": [
    "Since we're only concerned with post titles beginning with Ask HN or Show HN, we'll create new lists of lists containing just the data for those titles."
   ]
  },
  {
   "cell_type": "code",
   "execution_count": 12,
   "metadata": {},
   "outputs": [
    {
     "name": "stdout",
     "output_type": "stream",
     "text": [
      "6911 5059 68431\n",
      "['12576946', 'Ask HN: How hard would it be to make a cheap, hackable phone?', '', '2', '1', 'hkt', '9/25/2016 19:30']\n",
      "['12573681', 'Ask HN: Where can I learn more about and contribute to the AI singularity?', '', '1', '1', 'DSteinmann', '9/25/2016 3:00']\n",
      "['12572353', 'Ask HN: Is Riak a viable alternative to Cassandra?', '', '5', '1', 'nvarsj', '9/24/2016 19:57']\n",
      "['12571744', 'Ask HN: What are the best (free if possible) Wordpress themes for coding blogs?', '', '2', '1', 'kexari', '9/24/2016 17:27']\n",
      "['12570947', \"Ask HN: If you've successfully outsourced software dev work, how did you do it?\", '', '3', '1', 'Mattasher', '9/24/2016 14:03']\n",
      "['12577142', 'Show HN: Jumble  Essays on the go #PaulInYourPocket', 'https://itunes.apple.com/us/app/jumble-find-startup-essay/id1150939197?ls=1&mt=8', '1', '1', 'ryderj', '9/25/2016 20:06']\n",
      "['12576813', 'Show HN: Learn Japanese Vocab via multiple choice questions', 'http://japanese.vul.io/', '1', '1', 'soulchild37', '9/25/2016 19:06']\n",
      "['12576090', 'Show HN: Markov chain Twitter bot. Trained on comments left on Pornhub', 'https://twitter.com/botsonasty', '3', '1', 'keepingscore', '9/25/2016 16:50']\n",
      "['12575471', 'Show HN: Project-Okot: Novel, CODE-FREE data-apps in mere seconds', 'https://studio.nuchwezi.com/', '3', '1', 'nfixx', '9/25/2016 14:30']\n",
      "['12574556', 'Show HN: Geto, a mobile local compass', 'https://andreapaiola.name/geto/', '2', '1', 'andreapaiola', '9/25/2016 9:19']\n"
     ]
    }
   ],
   "source": [
    "ask_posts = []\n",
    "show_posts = []\n",
    "other_posts = []\n",
    "\n",
    "for row in hn:\n",
    "    title = row[1]\n",
    "    # Convert to lower case to make comparison simpler\n",
    "    title = title.lower()\n",
    "    if title.startswith('ask hn'):\n",
    "        ask_posts.append(row)\n",
    "    elif title.startswith('show hn'):\n",
    "        show_posts.append(row)\n",
    "    else:\n",
    "        other_posts.append(row)\n",
    "\n",
    "# Print out number of items sorted through the lists\n",
    "print(len(ask_posts), len(show_posts), len(other_posts))\n",
    "\n",
    "# Print out first five rows of ask and show posts just to check\n",
    "for row in ask_posts[:5]:\n",
    "    print(row)\n",
    "    \n",
    "for row in show_posts[:5]:\n",
    "    print(row)"
   ]
  },
  {
   "cell_type": "code",
   "execution_count": 13,
   "metadata": {},
   "outputs": [
    {
     "name": "stdout",
     "output_type": "stream",
     "text": [
      "Average Number of Ask HN Comments is 13.74 per post\n",
      "Average Number of Show HN Comments is 9.81 per post\n"
     ]
    }
   ],
   "source": [
    "# Determine if ask posts or show posts get more comments on average\n",
    "total_ask_comments = 0\n",
    "for row in ask_posts:\n",
    "    # Get the number of comments for the current ask hn post\n",
    "    num_comments = row[4]\n",
    "    # Convert string to number\n",
    "    num_comments = int(num_comments)\n",
    "    # add number of comments to running counter\n",
    "    total_ask_comments += num_comments\n",
    "\n",
    "# Compute average for ask hn comments\n",
    "avg_ask_comments = total_ask_comments/len(ask_posts)\n",
    "\n",
    "total_show_comments = 0\n",
    "for row in show_posts:\n",
    "    # Get the number of comments for the current ask hn post\n",
    "    num_comments = row[4]\n",
    "    # Convert string to number\n",
    "    num_comments = int(num_comments)\n",
    "    # add number of comments to running counter\n",
    "    total_show_comments += num_comments\n",
    "\n",
    "# Compute average for ask hn comments\n",
    "avg_show_comments = total_show_comments/len(show_posts)\n",
    "\n",
    "print(\"Average Number of Ask HN Comments is {0:.2f} per post\".format(avg_ask_comments))\n",
    "\n",
    "print(\"Average Number of Show HN Comments is {0:.2f} per post\".format(avg_show_comments))"
   ]
  },
  {
   "cell_type": "markdown",
   "metadata": {},
   "source": [
    "On average, ask posts receive almost 40% more comments than show posts on Hacker News. Since ask posts are more likely to receive comments, we'll focus our remaining analysis just on these posts. Let's determine if ask posts created at a certain time are more likely to attract comments."
   ]
  },
  {
   "cell_type": "code",
   "execution_count": 14,
   "metadata": {},
   "outputs": [
    {
     "name": "stdout",
     "output_type": "stream",
     "text": [
      "Top 5 Hours for Ask Posts Comments\n",
      "15:00: 39.67 comments per post.\n",
      "13:00: 22.22 comments per post.\n",
      "12:00: 15.45 comments per post.\n",
      "10:00: 13.76 comments per post.\n",
      "17:00: 13.73 comments per post.\n"
     ]
    }
   ],
   "source": [
    "import datetime as dt\n",
    "result_list = []\n",
    "\n",
    "for row in ask_posts:\n",
    "    # Get the string date/time the post was created\n",
    "    created_at = row[6]\n",
    "    # Get the number of comments for the current ask hn post\n",
    "    num_comments = row[4]\n",
    "    # Convert string to number\n",
    "    num_comments = int(num_comments)\n",
    "    # Append data to result_list\n",
    "    result_list.append([created_at, num_comments])\n",
    "\n",
    "counts_by_hour = {}\n",
    "comments_by_hour = {}\n",
    "    \n",
    "for row in result_list:\n",
    "    created_at_dt = dt.datetime.strptime(row[0],\"%m/%d/%Y %H:%M\")\n",
    "    hour = created_at_dt.strftime(\"%H\")\n",
    "    if hour not in counts_by_hour:\n",
    "        counts_by_hour[hour] = 1\n",
    "        comments_by_hour[hour] = row[1]\n",
    "    else:\n",
    "        counts_by_hour[hour] += 1\n",
    "        comments_by_hour[hour] += row[1]\n",
    "\n",
    "#for row in counts_by_hour:\n",
    "#    print(row, counts_by_hour[row], comments_by_hour[row])\n",
    "\n",
    "# Create a list containing the hours during which posts were created \n",
    "# and the average number of comments those posts received.\n",
    "\n",
    "avg_by_hour = []\n",
    "for row in counts_by_hour:\n",
    "    avg_var = comments_by_hour[row]/counts_by_hour[row]\n",
    "    avg_var = round(avg_var, 3)\n",
    "    avg_by_hour.append([row, avg_var])\n",
    "    #print(row, avg_var)\n",
    "    \n",
    "swap_avg_by_hour = []\n",
    "for row in sorted(avg_by_hour):\n",
    "    swap_avg_by_hour.append([row[1], row[0]])\n",
    "\n",
    "# print(swap_avg_by_hour)\n",
    "\n",
    "sorted_swap = sorted(swap_avg_by_hour, reverse=True)\n",
    "print(\"Top 5 Hours for Ask Posts Comments\")\n",
    "for item in sorted_swap[:5]:\n",
    "    hour_dt = dt.datetime.strptime(item[1], \"%H\")\n",
    "    hour_str = hour_dt.strftime(\"%H:%M:\") \n",
    "    print(hour_str, \"{:.2f}\".format(item[0]), \"comments per post.\")"
   ]
  },
  {
   "cell_type": "markdown",
   "metadata": {},
   "source": [
    "Ask Posts started between 3PM to 4PM have the most number of average comments, followed by posts started at 1PM, closely followed by 12PM. Early afternoon (12PM to 3PM) seems like a good time, in general to start these types of posts."
   ]
  }
 ],
 "metadata": {
  "kernelspec": {
   "display_name": "Python 3",
   "language": "python",
   "name": "python3"
  },
  "language_info": {
   "codemirror_mode": {
    "name": "ipython",
    "version": 3
   },
   "file_extension": ".py",
   "mimetype": "text/x-python",
   "name": "python",
   "nbconvert_exporter": "python",
   "pygments_lexer": "ipython3",
   "version": "3.6.5"
  }
 },
 "nbformat": 4,
 "nbformat_minor": 2
}
